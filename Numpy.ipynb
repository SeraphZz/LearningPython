{
 "metadata": {
  "language_info": {
   "codemirror_mode": {
    "name": "ipython",
    "version": 3
   },
   "file_extension": ".py",
   "mimetype": "text/x-python",
   "name": "python",
   "nbconvert_exporter": "python",
   "pygments_lexer": "ipython3",
   "version": "3.7.8-final"
  },
  "orig_nbformat": 2,
  "kernelspec": {
   "name": "python37864bitcs231nconda611bcc5fc9ca4df99ee06bf58c6c4d1f",
   "display_name": "Python 3.7.8 64-bit ('CS231n': conda)"
  }
 },
 "nbformat": 4,
 "nbformat_minor": 2,
 "cells": [
  {
   "source": [
    "# Numpy\n",
    "******\n",
    "NumPy(Numerical Python) 是 Python 语言的一个扩展程序库，支持大量的维度数组与矩阵运算，此外也针对数组运算提供大量的数学函数库。  \n",
    "NumPy 是一个运行速度非常快的数学库，主要用于数组计算，包含：  \n",
    "1. 一个强大的N维数组对象 ndarray  \n",
    "2. 广播功能函数  \n",
    "3. 整合 C/C++/Fortran 代码的工具  \n",
    "4. 线性代数、傅里叶变换、随机数生成等功能  \n",
    "Reference: [CS231n tutorial](https://cs231n.github.io/python-numpy-tutorial/)  \n",
    "## 1. **Arrays**  \n",
    "A numpy array is a grid of values, all of the same type, and is indexed by a tuple of nonnegative integers.  \n",
    "The number of dimensions is the rank of the array; the shape of an array is a tuple of integers giving the size of the array along each dimension."
   ],
   "cell_type": "markdown",
   "metadata": {}
  },
  {
   "cell_type": "code",
   "execution_count": 1,
   "metadata": {},
   "outputs": [
    {
     "output_type": "stream",
     "name": "stdout",
     "text": [
      "<class 'numpy.ndarray'>\n",
      "(3,)\n",
      "1 2 3\n",
      "[123   2   3]\n",
      "(2, 3)\n",
      "3\n"
     ]
    }
   ],
   "source": [
    "import numpy as np\n",
    "\n",
    "a = np.array([1, 2, 3])\n",
    "print(type(a))\n",
    "print(a.shape)\n",
    "print(a[0], a[1],  a[2])\n",
    "a[0] = 123\n",
    "print(a)\n",
    "\n",
    "b  = np.array([[1, 2, 3],[4, 5, 6]])\n",
    "print(b.shape)\n",
    "print(b[0,2])"
   ]
  },
  {
   "source": [
    "Numpy also has lots of functions to create arrays."
   ],
   "cell_type": "markdown",
   "metadata": {}
  },
  {
   "cell_type": "code",
   "execution_count": 2,
   "metadata": {},
   "outputs": [
    {
     "output_type": "stream",
     "name": "stdout",
     "text": [
      "[[0. 0. 0.]\n [0. 0. 0.]\n [0. 0. 0.]]\n[[1. 1.]\n [1. 1.]]\n[[7 7]\n [7 7]]\n[[1. 0. 0. 0.]\n [0. 1. 0. 0.]\n [0. 0. 1. 0.]\n [0. 0. 0. 1.]]\n[[0.3398032  0.80779852]\n [0.16761923 0.49986231]]\n"
     ]
    }
   ],
   "source": [
    "import numpy as np\n",
    "\n",
    "a = np.zeros((3, 3))\n",
    "print(a)\n",
    "\n",
    "b = np.ones((2,2))\n",
    "print(b)\n",
    "\n",
    "c = np.full((2,2), 7)\n",
    "print(c)\n",
    "\n",
    "d = np.eye(4)\n",
    "print(d)\n",
    "\n",
    "e = np.random.random((2,2))\n",
    "print(e)"
   ]
  },
  {
   "source": [
    "### Array indexing\n",
    "Numpy provides several ways to index into arrays.  \n",
    "#### 1. **Slicing**  \n",
    "Since arrays may be multidimensional, you must specify a slice for each dimension of the array."
   ],
   "cell_type": "markdown",
   "metadata": {}
  },
  {
   "cell_type": "code",
   "execution_count": 3,
   "metadata": {},
   "outputs": [
    {
     "output_type": "stream",
     "name": "stdout",
     "text": [
      "[[ 1  2  3  4]\n [ 5  6  7  8]\n [ 9 10 11 12]]\n[[2 3]\n [6 7]]\n2\n100\n[5 6 7 8] (4,)\n[[5 6 7 8]] (1, 4)\n[100   6  10] (3,)\n[[100]\n [  6]\n [ 10]] (3, 1)\n"
     ]
    }
   ],
   "source": [
    "import numpy as np\n",
    "# Create the following rank 2 array with shape (3, 4)\n",
    "# [[ 1  2  3  4]\n",
    "#  [ 5  6  7  8]\n",
    "#  [ 9 10 11 12]]\n",
    "a = np.array([[1, 2, 3, 4], [5, 6, 7, 8], [9, 10, 11, 12]])\n",
    "print(a)\n",
    "\n",
    "# Use slicing to pull out the subarray consisting of the first 2 rows and columns 1 and 2;\n",
    "# b is the following array of shape (2, 2):\n",
    "# [[2 3]\n",
    "#  [6 7]]\n",
    "b = a[:2, 1:3]\n",
    "print(b)\n",
    "\n",
    "# NOTICE: A slice of an array is a view into the same data, so modifying it will modify the original array.\n",
    "print(a[0, 1])    # Prints \"2\"\n",
    "b[0, 0] = 100     # b[0, 0] is the same piece of data as a[0, 1]\n",
    "print(a[0, 1])    # Prints \"100\"\n",
    "\n",
    "row_r1 = a[1, :]\n",
    "row_r2 = a[1:2, :]\n",
    "print(row_r1, row_r1.shape)\n",
    "print(row_r2, row_r2.shape)\n",
    "\n",
    "col_r1 = a[:, 1]\n",
    "col_r2 = a[:, 1:2]\n",
    "print(col_r1, col_r1.shape)\n",
    "print(col_r2, col_r2.shape)"
   ]
  },
  {
   "source": [
    "#### 2. **Integer array indexing**  \n",
    "Integer array indexing allows you to construct arbitrary arrays using the data from another array. "
   ],
   "cell_type": "markdown",
   "metadata": {}
  },
  {
   "cell_type": "code",
   "execution_count": 4,
   "metadata": {},
   "outputs": [
    {
     "output_type": "stream",
     "name": "stdout",
     "text": [
      "[1 4 5] (3,)\n[1 4 5] <class 'numpy.ndarray'> (3,)\n[1, 4, 5] <class 'list'>\n[2 2]\n[2 2]\n"
     ]
    }
   ],
   "source": [
    "import numpy as np\n",
    "\n",
    "a = np.array([[1,2], [3, 4], [5, 6]])\n",
    "\n",
    "# An example of integer array indexing.\n",
    "b = a[[0, 1, 2], [0, 1, 0]]\n",
    "print(b, b.shape)\n",
    "\n",
    "# The above example of integer array indexing is equivalent to this:\n",
    "c = np.array([a[0, 0], a[1, 1], a[2, 0]])\n",
    "d = [a[0, 0], a[1, 1], a[2, 0]]\n",
    "print(c, type(c), c.shape)\n",
    "print(d, type(d))\n",
    "\n",
    "# When using integer array indexing, you can reuse the same element from the source array:\n",
    "print(a[[0, 0], [1, 1]])\n",
    "print(np.array([a[0, 1], a[0, 1]]))"
   ]
  },
  {
   "source": [
    "One useful trick with integer array indexing is selecting or mutating one element from each row of a matrix:"
   ],
   "cell_type": "markdown",
   "metadata": {}
  },
  {
   "cell_type": "code",
   "execution_count": 5,
   "metadata": {},
   "outputs": [
    {
     "output_type": "stream",
     "name": "stdout",
     "text": [
      "[[ 1  2  3]\n [ 4  5  6]\n [ 7  8  9]\n [10 11 12]]\n[1 6 7]\n[[11  2  3]\n [ 4  5 16]\n [17  8  9]\n [10 11 12]]\n"
     ]
    }
   ],
   "source": [
    "import numpy as np\n",
    "\n",
    "# Create a new array from which we will select elements\n",
    "a = np.array([[1,2,3], [4,5,6], [7,8,9], [10, 11, 12]])\n",
    "\n",
    "print(a)  # Create an array \"([[ 1,  2,  3],\n",
    "          #                    [ 4,  5,  6],\n",
    "          #                    [ 7,  8,  9],\n",
    "          #                    [10, 11, 12]])\"\n",
    "\n",
    "# Create an array of indices\n",
    "b = np.array([0, 2, 0])\n",
    "\n",
    "# Select one element from each row of a using the indices in b\n",
    "print(a[np.arange(3), b])\n",
    "\n",
    "# Mutate one element from each row of a using the indices in b\n",
    "a[np.arange(3), b] += 10\n",
    "\n",
    "print(a)"
   ]
  },
  {
   "source": [
    "#### 3. **Boolean array indexing**  \n",
    "Boolean array indexing lets you pick out arbitrary elements of an array."
   ],
   "cell_type": "markdown",
   "metadata": {}
  },
  {
   "cell_type": "code",
   "execution_count": 6,
   "metadata": {},
   "outputs": [
    {
     "output_type": "stream",
     "name": "stdout",
     "text": [
      "[[False False]\n [ True  True]\n [ True  True]]\n[3 4 5 6]\n[3 4 5 6]\n"
     ]
    }
   ],
   "source": [
    "import numpy as np\n",
    "a = np.array([[1,2],[3,4],[5,6]])\n",
    "\n",
    "bool_idx = (a > 2)\n",
    "print(bool_idx)\n",
    "print(a[bool_idx])\n",
    "print(a[a > 2])"
   ]
  },
  {
   "source": [
    "## 2. Datatypes  \n",
    " Numpy provides a large set of numeric datatypes that you can use to construct arrays."
   ],
   "cell_type": "markdown",
   "metadata": {}
  },
  {
   "cell_type": "code",
   "execution_count": 7,
   "metadata": {},
   "outputs": [
    {
     "output_type": "stream",
     "name": "stdout",
     "text": [
      "int32\nfloat64\n[1 2]\nint64\n"
     ]
    }
   ],
   "source": [
    "import numpy as np\n",
    "x = np.array([1, 2])\n",
    "print(x.dtype)\n",
    "\n",
    "x = np.array([1.0, 2.2])\n",
    "print(x.dtype)\n",
    "\n",
    "x = np.array([1.1, 2], dtype = np.int64)\n",
    "print(x)\n",
    "print(x.dtype)"
   ]
  },
  {
   "source": [
    "## 2. Array math  \n",
    "Basic mathematical functions operate elementwise on arrays, and are available both as operator overloads and as functions in the numpy module."
   ],
   "cell_type": "markdown",
   "metadata": {}
  },
  {
   "cell_type": "code",
   "execution_count": 8,
   "metadata": {},
   "outputs": [
    {
     "output_type": "stream",
     "name": "stdout",
     "text": [
      "[[ 6.  8.]\n",
      " [10. 12.]]\n",
      "[[ 6.  8.]\n",
      " [10. 12.]]\n",
      "[[-4. -4.]\n",
      " [-4. -4.]]\n",
      "[[-4. -4.]\n",
      " [-4. -4.]]\n",
      "[[ 5. 12.]\n",
      " [21. 32.]]\n",
      "[[ 5. 12.]\n",
      " [21. 32.]]\n",
      "[[19. 22.]\n",
      " [43. 50.]]\n",
      "[[19. 22.]\n",
      " [43. 50.]]\n",
      "[[0.2        0.33333333]\n",
      " [0.42857143 0.5       ]]\n",
      "[[0.2        0.33333333]\n",
      " [0.42857143 0.5       ]]\n",
      "[[1.         1.41421356]\n",
      " [1.73205081 2.        ]]\n"
     ]
    }
   ],
   "source": [
    "import numpy as np\n",
    "\n",
    "x = np.array([[1,2],[3,4]], dtype=np.float64)\n",
    "y = np.array([[5,6],[7,8]], dtype=np.float64)\n",
    "\n",
    "# Elementwise sum;\n",
    "print(x + y)\n",
    "print(np.add(x, y))\n",
    "\n",
    "# Elementwise difference;\n",
    "print(x - y)\n",
    "print(np.subtract(x, y))\n",
    "\n",
    "# Elementwise product;\n",
    "print(x * y)\n",
    "print(np.multiply(x, y))\n",
    "\n",
    "# Note that unlike MATLAB, * is elementwise multiplication, not matrix multiplication.\n",
    "# We instead use the dot function to compute inner products of vectors, to multiply a vector by a matrix, and to multiply matrices.\n",
    "# dot is available both as a function in the numpy module and as an instance method of array objects.\n",
    "print(x.dot(y))\n",
    "print(np.dot(x, y))\n",
    "\n",
    "# Elementwise division;\n",
    "print(x / y)\n",
    "print(np.divide(x, y))\n",
    "\n",
    "# Elementwise square root;\n",
    "print(np.sqrt(x))"
   ]
  },
  {
   "source": [
    "Numpy provides many useful functions for performing computations on arrays; one of the most useful is *sum*."
   ],
   "cell_type": "markdown",
   "metadata": {}
  },
  {
   "cell_type": "code",
   "execution_count": 11,
   "metadata": {},
   "outputs": [
    {
     "output_type": "stream",
     "name": "stdout",
     "text": [
      "10\n[4 6]\n[3 7]\n"
     ]
    }
   ],
   "source": [
    "import numpy as np\n",
    "\n",
    "x = np.array([[1,2],[3,4]])\n",
    "\n",
    "print(np.sum(x))            # Compute sum of all elements; prints \"10\"\n",
    "print(np.sum(x, axis=0))    # Compute sum of each column; prints \"[4 6]\"\n",
    "print(np.sum(x, axis=1))    # Compute sum of each row; prints \"[3 7]\""
   ]
  },
  {
   "source": [
    "Apart from computing mathematical functions using arrays, we frequently need to reshape or otherwise manipulate data in arrays.  \n",
    "The simplest example of this type of operation is transposing a matrix; to transpose a matrix, simply use the *T* attribute of an array object."
   ],
   "cell_type": "markdown",
   "metadata": {}
  },
  {
   "cell_type": "code",
   "execution_count": 10,
   "metadata": {},
   "outputs": [
    {
     "output_type": "stream",
     "name": "stdout",
     "text": [
      "[[1 2]\n [3 4]]\n[[1 3]\n [2 4]]\n[1 2 3]\n[1 2 3]\n"
     ]
    }
   ],
   "source": [
    "import numpy as np\n",
    "\n",
    "x = np.array([[1, 2],[3, 4]])\n",
    "print(x)\n",
    "print(x.T)\n",
    "\n",
    "# Note that taking the transpose of a rank 1 array does nothing:\n",
    "v = np.array([1,2,3])\n",
    "print(v)    # Prints \"[1 2 3]\"\n",
    "print(v.T)  # Prints \"[1 2 3]\""
   ]
  }
 ]
}