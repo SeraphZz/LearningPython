{
 "metadata": {
  "language_info": {
   "codemirror_mode": {
    "name": "ipython",
    "version": 3
   },
   "file_extension": ".py",
   "mimetype": "text/x-python",
   "name": "python",
   "nbconvert_exporter": "python",
   "pygments_lexer": "ipython3",
   "version": 3
  },
  "orig_nbformat": 2
 },
 "nbformat": 4,
 "nbformat_minor": 2,
 "cells": [
  {
   "source": [
    "# Basic data types\n",
    "reference: [CS231n tutorial](https://cs231n.github.io/python-numpy-tutorial/)\n",
    "******\n",
    "1.Numbers"
   ],
   "cell_type": "markdown",
   "metadata": {}
  },
  {
   "cell_type": "code",
   "execution_count": null,
   "metadata": {},
   "outputs": [
    {
     "output_type": "error",
     "ename": "Error",
     "evalue": "Jupyter cannot be started. Error attempting to locate jupyter: Data Science libraries notebook and jupyter are not installed in interpreter Python 3.6.5 64-bit.",
     "traceback": [
      "Error: Jupyter cannot be started. Error attempting to locate jupyter: Data Science libraries notebook and jupyter are not installed in interpreter Python 3.6.5 64-bit.",
      "at b.startServer (c:\\Users\\83995\\.vscode\\extensions\\ms-python.python-2020.9.114305\\out\\client\\extension.js:56:315285)",
      "at runMicrotasks (<anonymous>)",
      "at processTicksAndRejections (internal/process/task_queues.js:94:5)",
      "at async b.createServer (c:\\Users\\83995\\.vscode\\extensions\\ms-python.python-2020.9.114305\\out\\client\\extension.js:56:314727)",
      "at async connect (c:\\Users\\83995\\.vscode\\extensions\\ms-python.python-2020.9.114305\\out\\client\\extension.js:56:442892)",
      "at async f.ensureConnectionAndNotebookImpl (c:\\Users\\83995\\.vscode\\extensions\\ms-python.python-2020.9.114305\\out\\client\\extension.js:32:92535)",
      "at async f.ensureConnectionAndNotebook (c:\\Users\\83995\\.vscode\\extensions\\ms-python.python-2020.9.114305\\out\\client\\extension.js:32:90897)",
      "at async f.clearResult (c:\\Users\\83995\\.vscode\\extensions\\ms-python.python-2020.9.114305\\out\\client\\extension.js:32:86569)",
      "at async f.reexecuteCell (c:\\Users\\83995\\.vscode\\extensions\\ms-python.python-2020.9.114305\\out\\client\\extension.js:9:134551)",
      "at async f.reexecuteCells (c:\\Users\\83995\\.vscode\\extensions\\ms-python.python-2020.9.114305\\out\\client\\extension.js:9:130897)"
     ]
    }
   ],
   "source": [
    "x = 5\n",
    "y = 2.5\n",
    "print(type(x), type(y))\n",
    "print(x + y)\n",
    "print(x ** 2)\n",
    "x += 1\n",
    "print(x)"
   ]
  },
  {
   "cell_type": "code",
   "execution_count": null,
   "metadata": {},
   "outputs": [],
   "source": []
  }
 ]
}