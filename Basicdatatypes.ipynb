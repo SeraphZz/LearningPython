{
 "metadata": {
  "language_info": {
   "codemirror_mode": {
    "name": "ipython",
    "version": 3
   },
   "file_extension": ".py",
   "mimetype": "text/x-python",
   "name": "python",
   "nbconvert_exporter": "python",
   "pygments_lexer": "ipython3",
   "version": "3.8.3-final"
  },
  "orig_nbformat": 2,
  "kernelspec": {
   "name": "python3",
   "display_name": "Python 3"
  }
 },
 "nbformat": 4,
 "nbformat_minor": 2,
 "cells": [
  {
   "source": [
    "# Basic data types\n",
    "******\n",
    "本文档介绍了Python中最基础的几种数据类型。  \n",
    "Reference: [CS231n tutorial](https://cs231n.github.io/python-numpy-tutorial/)  \n",
    "\n",
    "## 1. **Numbers**  \n",
    "Integers and floats."
   ],
   "cell_type": "markdown",
   "metadata": {}
  },
  {
   "cell_type": "code",
   "execution_count": null,
   "metadata": {},
   "outputs": [],
   "source": [
    "x = 5\n",
    "y = 2.5\n",
    "print(type(x), type(y))\n",
    "print(x + y)\n",
    "print(x ** 2)\n",
    "x += 1\n",
    "print(x)"
   ]
  },
  {
   "source": [
    "##  2. **Booleans**  \n",
    "Python uses English words directly."
   ],
   "cell_type": "markdown",
   "metadata": {}
  },
  {
   "cell_type": "code",
   "execution_count": null,
   "metadata": {},
   "outputs": [],
   "source": [
    "T = True\n",
    "F = False\n",
    "print(type(T), type(F))\n",
    "print(T and F)\n",
    "print(T or F)\n",
    "print(not T, not F)\n",
    "print(T != F)"
   ]
  },
  {
   "source": [
    "## 3. **Strings**"
   ],
   "cell_type": "markdown",
   "metadata": {}
  },
  {
   "cell_type": "code",
   "execution_count": null,
   "metadata": {},
   "outputs": [],
   "source": [
    "hello = 'hello world!'\n",
    "print(len(hello))\n",
    "print(hello.capitalize())\n",
    "print(hello.upper())\n",
    "print(hello.replace('hello','Byebye'))"
   ]
  }
 ]
}