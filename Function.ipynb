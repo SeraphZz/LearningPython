{
 "metadata": {
  "language_info": {
   "codemirror_mode": {
    "name": "ipython",
    "version": 3
   },
   "file_extension": ".py",
   "mimetype": "text/x-python",
   "name": "python",
   "nbconvert_exporter": "python",
   "pygments_lexer": "ipython3",
   "version": "3.7.8-final"
  },
  "orig_nbformat": 2,
  "kernelspec": {
   "name": "python37864bitcs231nconda611bcc5fc9ca4df99ee06bf58c6c4d1f",
   "display_name": "Python 3.7.8 64-bit ('CS231n': conda)"
  }
 },
 "nbformat": 4,
 "nbformat_minor": 2,
 "cells": [
  {
   "source": [
    "# Function and Classes\n",
    "******    \n",
    "Reference: [CS231n tutorial](https://cs231n.github.io/python-numpy-tutorial/)  \n",
    "## 1. Function  \n",
    "Python functions are defined using the ***def*** keyword."
   ],
   "cell_type": "markdown",
   "metadata": {}
  },
  {
   "cell_type": "code",
   "execution_count": 1,
   "metadata": {},
   "outputs": [
    {
     "output_type": "stream",
     "name": "stdout",
     "text": [
      "negative\nzero\npositive\n"
     ]
    }
   ],
   "source": [
    "def sign(x):\n",
    "    if x > 0:\n",
    "        return 'positive'\n",
    "    if x < 0:\n",
    "        return 'negative'\n",
    "    else:\n",
    "        return 'zero'\n",
    "\n",
    "for x in [-1, 0, 1]:\n",
    "    print(sign(x))"
   ]
  },
  {
   "source": [
    "## 2. Classes"
   ],
   "cell_type": "markdown",
   "metadata": {}
  },
  {
   "cell_type": "code",
   "execution_count": 8,
   "metadata": {},
   "outputs": [
    {
     "output_type": "stream",
     "name": "stdout",
     "text": [
      "Hello, Seraphim!\nHELLO, SERAPHIM!\n"
     ]
    }
   ],
   "source": [
    "class Greeter(object):\n",
    "\n",
    "    def __init__(self, name):\n",
    "        self.name = name\n",
    "\n",
    "    def greet(self, loud = False):\n",
    "        if loud:\n",
    "            print('HELLO, %s!' %self.name.upper())\n",
    "        else:\n",
    "            print('Hello, %s!' %self.name)\n",
    "\n",
    "g = Greeter('Seraphim')\n",
    "g.greet()\n",
    "g.greet(loud = True)"
   ]
  }
 ]
}