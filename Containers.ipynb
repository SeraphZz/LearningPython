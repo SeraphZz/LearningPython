{
 "metadata": {
  "language_info": {
   "codemirror_mode": {
    "name": "ipython",
    "version": 3
   },
   "file_extension": ".py",
   "mimetype": "text/x-python",
   "name": "python",
   "nbconvert_exporter": "python",
   "pygments_lexer": "ipython3",
   "version": "3.7.8-final"
  },
  "orig_nbformat": 2,
  "kernelspec": {
   "name": "python37864bitcs231nconda611bcc5fc9ca4df99ee06bf58c6c4d1f",
   "display_name": "Python 3.7.8 64-bit ('CS231n': conda)"
  }
 },
 "nbformat": 4,
 "nbformat_minor": 2,
 "cells": [
  {
   "source": [
    "# Containers\n",
    "******  \n",
    "This file illustrates different kinds of Containers in Python.  \n",
    "Reference: [CS231n tutorial](https://cs231n.github.io/python-numpy-tutorial/)  \n",
    "## 1. **List**"
   ],
   "cell_type": "markdown",
   "metadata": {}
  },
  {
   "cell_type": "code",
   "execution_count": 1,
   "metadata": {},
   "outputs": [
    {
     "output_type": "stream",
     "name": "stdout",
     "text": [
      "[1, 2, 3, 12, 34, 56] 1\n34\n[1, 'two', 3, 12, 34, 56]\n[1, 'two', 3, 12, 34, 56, 'numbers']\n[1, 'two', 3, 12, 34, 56] numbers\n"
     ]
    }
   ],
   "source": [
    "a = [1,2,3,12,34,56]\n",
    "print(a,a[0])\n",
    "print(a[-2])\n",
    "a[1] = 'two'\n",
    "print(a)\n",
    "a.append('numbers')\n",
    "print(a)\n",
    "b = a.pop()\n",
    "print(a, b)"
   ]
  },
  {
   "source": [
    "### 1.1 **Slicing**  \n",
    "Consics syntax to access sublists provided by Python."
   ],
   "cell_type": "markdown",
   "metadata": {}
  },
  {
   "cell_type": "code",
   "execution_count": null,
   "metadata": {},
   "outputs": [],
   "source": [
    "nums = list(range(10))\n",
    "print(nums)\n",
    "print(nums[2:6])\n",
    "print(nums[2:])\n",
    "print(nums[:2])\n",
    "print(nums[:-1])"
   ]
  },
  {
   "source": [
    "### 1.2 **Loops**  "
   ],
   "cell_type": "markdown",
   "metadata": {}
  },
  {
   "cell_type": "code",
   "execution_count": null,
   "metadata": {},
   "outputs": [],
   "source": [
    "subjects = ['Chinese','Math','English','Chemistry','Physics','Biology']\n",
    "for subject in subjects:\n",
    "    print(subject)\n",
    "for index, subject in enumerate(subjects):\n",
    "    print('#%d: %s' %(index + 1, subject))"
   ]
  },
  {
   "source": [
    "### 1.3 **List Comprehension**  \n",
    "Simplify the for loops into one single sentence"
   ],
   "cell_type": "markdown",
   "metadata": {}
  },
  {
   "cell_type": "code",
   "execution_count": null,
   "metadata": {},
   "outputs": [],
   "source": [
    "nums = list(range(10))\n",
    "squares = [x ** 2 for x in nums]\n",
    "even_squares = [x ** 2 for x in nums if x % 2 == 0]\n",
    "print(squares,even_squares)"
   ]
  },
  {
   "source": [
    "## **2. Dictionaries**  \n",
    "A dictionary stores (key, value) pairs."
   ],
   "cell_type": "markdown",
   "metadata": {}
  },
  {
   "cell_type": "code",
   "execution_count": 2,
   "metadata": {},
   "outputs": [
    {
     "output_type": "stream",
     "name": "stdout",
     "text": [
      "Los Angeles\nTrue\nChampions Nation\nLakers located in Champions Nation\nClippers located in Los Angeles\nWarriors located in Golden State\n"
     ]
    }
   ],
   "source": [
    "teams = {'Lakers':'Los Angeles', 'Clippers':'Los Angeles', 'Warriors':'Golden State'}\n",
    "print(teams['Lakers'])\n",
    "print('Lakers' in teams)\n",
    "teams['Lakers'] = 'Champions Nation'\n",
    "print(teams['Lakers'])\n",
    "for team in teams:\n",
    "    city = teams[team]\n",
    "    print('%s located in %s' % (team, city))"
   ]
  },
  {
   "source": [
    "## 3. **Sets**  \n",
    "Collection of different elements."
   ],
   "cell_type": "markdown",
   "metadata": {}
  },
  {
   "cell_type": "code",
   "execution_count": 8,
   "metadata": {},
   "outputs": [
    {
     "output_type": "stream",
     "name": "stdout",
     "text": [
      "True\n3\n{0.0, 1.0, 2.0, 1.7320508075688772, 1.4142135623730951, 2.23606797749979, 2.449489742783178, 2.6457513110645907, 2.8284271247461903, 3.0}\n"
     ]
    }
   ],
   "source": [
    "teams = {'Lakers','Worriors'}\n",
    "print('Lakers' in teams)\n",
    "teams.add('Cetlies')\n",
    "print(len(teams))\n",
    "\n",
    "from math import sqrt\n",
    "nums = {sqrt(x) for x in range(10)}\n",
    "print(nums)"
   ]
  },
  {
   "source": [
    "## 4. **Tuples**  \n",
    "Ordered list of values. Can be used as keys in dictionaries and as elements of sets."
   ],
   "cell_type": "markdown",
   "metadata": {}
  },
  {
   "cell_type": "code",
   "execution_count": 1,
   "metadata": {},
   "outputs": [
    {
     "output_type": "stream",
     "name": "stdout",
     "text": [
      "<class 'tuple'>\n2\n1\n"
     ]
    }
   ],
   "source": [
    "d = {(x, x + 1): x for x in range(5)}\n",
    "t = (2,3)\n",
    "print(type(t))\n",
    "print(d[t])\n",
    "print(d[1,2])"
   ]
  }
 ]
}