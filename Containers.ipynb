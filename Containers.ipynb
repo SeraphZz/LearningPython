{
 "metadata": {
  "language_info": {
   "codemirror_mode": {
    "name": "ipython",
    "version": 3
   },
   "file_extension": ".py",
   "mimetype": "text/x-python",
   "name": "python",
   "nbconvert_exporter": "python",
   "pygments_lexer": "ipython3",
   "version": "3.7.8-final"
  },
  "orig_nbformat": 2,
  "kernelspec": {
   "name": "python37864bitcs231nconda611bcc5fc9ca4df99ee06bf58c6c4d1f",
   "display_name": "Python 3.7.8 64-bit ('CS231n': conda)"
  }
 },
 "nbformat": 4,
 "nbformat_minor": 2,
 "cells": [
  {
   "source": [
    "# Containers\n",
    "******  \n",
    "This file illustrates different kinds of Containers in Python.  \n",
    "Reference: [CS231n tutorial](https://cs231n.github.io/python-numpy-tutorial/)  \n",
    "## 1. **List**"
   ],
   "cell_type": "markdown",
   "metadata": {}
  },
  {
   "cell_type": "code",
   "execution_count": null,
   "metadata": {},
   "outputs": [],
   "source": [
    "a = [1,2,3,12,34,56]\n",
    "print(a,a[0])\n",
    "print(a[-2])\n",
    "a[1] = 'two'\n",
    "print(a)\n",
    "a.append('numbers')\n",
    "print(a)\n",
    "b = a.pop()\n",
    "print(a, b)"
   ]
  },
  {
   "source": [
    "### 1.1 **Slicing**  \n",
    "Consics syntax to access sublists provided by Python."
   ],
   "cell_type": "markdown",
   "metadata": {}
  },
  {
   "cell_type": "code",
   "execution_count": null,
   "metadata": {},
   "outputs": [],
   "source": []
  },
  {
   "cell_type": "code",
   "execution_count": null,
   "metadata": {},
   "outputs": [],
   "source": []
  },
  {
   "cell_type": "code",
   "execution_count": null,
   "metadata": {},
   "outputs": [],
   "source": []
  }
 ]
}